{
 "cells": [
  {
   "cell_type": "markdown",
   "id": "eae4050e-5057-4a59-9397-43800e7612f9",
   "metadata": {},
   "source": [
    "# CYCLOTOMIC FACTORS OF POLYNOMIALS\n",
    "A <span style=\"color: navy;\">**SageMath**</span> tutorial<br>\n",
    "<span style=\"color: maroon;\">**VIASM**</span> REU 2025"
   ]
  },
  {
   "cell_type": "markdown",
   "id": "6b2e7bd4-0f2e-4b67-9345-497ad6cd087d",
   "metadata": {},
   "source": [
    "## Work environment 📚\n",
    "We start by creating a polynomial ring named ``R`` with a single variable, ``x``. The coefficients of the polynomials in this ring are integers, which is represented by ``ZZ``."
   ]
  },
  {
   "cell_type": "code",
   "execution_count": 2,
   "id": "2518166f-0236-4c2a-bab9-9c1b1b6def57",
   "metadata": {},
   "outputs": [],
   "source": [
    "R.<x> = PolynomialRing(ZZ)"
   ]
  },
  {
   "cell_type": "markdown",
   "id": "fa6f4210-48f6-4e06-8d8a-23817afe5630",
   "metadata": {},
   "source": [
    "Then we can define a polynomial using a vector (list) of its coefficients, starting from $x^0$ (going backwards on the actual polynomial). For a polynomial of degree $n$, this vector is in the form:<br>\n",
    "``v = [x0_coeff, x1_coeff, x2_coeff, ..., xn_coeff]``<br>\n",
    "For example, the polynomial $x^2 - 5x + 6$ will have the coefficients vector ``v = [6, -5, 1]``. The polynomial will then be declared using the ring ``R`` by running:<br>\n",
    "``Fx = R(v)``"
   ]
  },
  {
   "cell_type": "code",
   "execution_count": 3,
   "id": "f90fe63c-d9d3-4caf-a37a-615839d43b1f",
   "metadata": {},
   "outputs": [
    {
     "data": {
      "text/plain": [
       "x^2 - 5*x + 6"
      ]
     },
     "execution_count": 3,
     "metadata": {},
     "output_type": "execute_result"
    }
   ],
   "source": [
    "v = [6, -5, 1]\n",
    "Fx = R(v)\n",
    "Fx"
   ]
  },
  {
   "cell_type": "markdown",
   "id": "7bb582c3-9b98-4065-968c-d4f23e44a198",
   "metadata": {},
   "source": [
    "## Some important functions ⚙️"
   ]
  },
  {
   "cell_type": "markdown",
   "id": "a7b6e3a0-a451-472a-826a-b080c75cad13",
   "metadata": {},
   "source": [
    "### Coprime check\n",
    "Two integers are considered coprime (or relatively prime) if their greatest common divisor (gcd) is 1.<br>\n",
    "The function returns 1 (``True``) if ``m``,``n``, are coprime, and 0(``False``) otherwise."
   ]
  },
  {
   "cell_type": "code",
   "execution_count": 4,
   "id": "6329f323-9e84-4e82-8173-028a2455a9ca",
   "metadata": {},
   "outputs": [],
   "source": [
    "def is_coprime(m,n):\n",
    "    if gcd(m,n) == 1:\n",
    "        return 1\n",
    "    else:\n",
    "        return 0"
   ]
  },
  {
   "cell_type": "markdown",
   "id": "7856eb83-0f44-4c9e-b10e-0ee25152abc7",
   "metadata": {},
   "source": [
    "### Square-free check\n",
    "An integer is considered square-free if, in its prime factorization, every prime factor appears with an exponent of exactly 1. In other words, if integer $n$ has a prime factor $p$ with exponent $\\geq2$, $p^2|n$.<br>\n",
    "To check for this, we use the built-in function prime factorization function ``factor(n)``. For example:"
   ]
  },
  {
   "cell_type": "code",
   "execution_count": 5,
   "id": "c04d6f24-1010-48fb-a4d0-580df76c0046",
   "metadata": {},
   "outputs": [
    {
     "data": {
      "text/plain": [
       "2^2 * 3"
      ]
     },
     "execution_count": 5,
     "metadata": {},
     "output_type": "execute_result"
    }
   ],
   "source": [
    "factor(12)"
   ]
  },
  {
   "cell_type": "markdown",
   "id": "9cca4e2d-4b94-4122-bb83-b70a5fbef0d5",
   "metadata": {},
   "source": [
    "This secretly wraps a list of pairs (prime, exponent), and you can get this list by running the ``list()`` function."
   ]
  },
  {
   "cell_type": "code",
   "execution_count": 6,
   "id": "4ad23c3a-68c2-4b5c-a47f-8c131500337c",
   "metadata": {},
   "outputs": [
    {
     "data": {
      "text/plain": [
       "[(2, 2), (3, 1)]"
      ]
     },
     "execution_count": 6,
     "metadata": {},
     "output_type": "execute_result"
    }
   ],
   "source": [
    "list(factor(12))"
   ]
  },
  {
   "cell_type": "markdown",
   "id": "eca2797f-0a08-496c-b278-fc017fe051d1",
   "metadata": {},
   "source": [
    "For our purposes, we will iterate through each ``pair`` in the list, check if any exponent (the second component of the ``pair``, hence ``pair[1]``) is $\\geq2$."
   ]
  },
  {
   "cell_type": "code",
   "execution_count": 7,
   "id": "f24f8cb5-69f5-46b4-82ac-2967d04a9020",
   "metadata": {},
   "outputs": [],
   "source": [
    "def not_square_free(n):\n",
    "    for pair in factor(n):\n",
    "        if pair[1] >= 2:\n",
    "            return True\n",
    "    return False"
   ]
  },
  {
   "cell_type": "markdown",
   "id": "a4947c19-1786-409c-bc3d-1c58bc9b38aa",
   "metadata": {},
   "source": [
    "### Möbius function\n",
    "The Möbius function, $\\mu(n)$, is defined as:<br>\n",
    "$\n",
    "\\mu(n) =\n",
    "\\begin{cases}\n",
    "0 & \\text{if } n \\text{ is not square-free} \\\\\n",
    "1 & \\text{if } n=1\\\\\n",
    "(-1)^k & \\text{if } n \\text{ is a product of } k \\text{ distinct primes}\n",
    "\\end{cases}\n",
    "$<br>\n",
    "The n=1 case is a simple if-then. The $n$ is not square-free case can be checked using the previously defined ``not_square_free(n)``.<br>\n",
    "For the $n$ is a product of $k$ distinct primes case, we count the number of distinct prime factors using the length, ``len()``, of the previously mentioned ``list(factor(n))``. For example:"
   ]
  },
  {
   "cell_type": "code",
   "execution_count": 8,
   "id": "637487ab-e337-45e4-8eb5-020c016b72f9",
   "metadata": {},
   "outputs": [
    {
     "data": {
      "text/plain": [
       "[(2, 1), (3, 1), (5, 1)]"
      ]
     },
     "execution_count": 8,
     "metadata": {},
     "output_type": "execute_result"
    }
   ],
   "source": [
    "list(factor(30))"
   ]
  },
  {
   "cell_type": "code",
   "execution_count": 9,
   "id": "2765903a-9d94-4122-9a38-fe5530536262",
   "metadata": {},
   "outputs": [
    {
     "data": {
      "text/plain": [
       "3"
      ]
     },
     "execution_count": 9,
     "metadata": {},
     "output_type": "execute_result"
    }
   ],
   "source": [
    "len(list(factor(30)))"
   ]
  },
  {
   "cell_type": "markdown",
   "id": "e086052f-10dc-40d8-b8f9-52932631b79e",
   "metadata": {},
   "source": [
    "The Möbius function, $\\mu(n)$, is then defined as:"
   ]
  },
  {
   "cell_type": "code",
   "execution_count": 10,
   "id": "852abe15-06c8-4071-922f-120b8db00940",
   "metadata": {},
   "outputs": [],
   "source": [
    "def mobius(n):\n",
    "    if n == 1:\n",
    "        return 1\n",
    "    elif not_square_free(n):\n",
    "        return 0\n",
    "    else:\n",
    "        return (-1)**len(list(factor(n)))"
   ]
  },
  {
   "cell_type": "markdown",
   "id": "d0b18f13-cd26-4f67-b433-1748296f12e6",
   "metadata": {},
   "source": [
    "### Fekete polynomials\n",
    "A Fekete polynomial, $F_n(x)$ is defined as:<br>\n",
    "$F_n(x) = \\sum_{\\substack{1 \\leq a \\leq n \\\\ \\text{gcd}(a,n)=1}} x^a$<br>\n",
    "Since $a$ starts at 1, all Fekete polynomials have no $x^0$. Hence, the coefficients vector ``v`` starts with ``[0]``.<br>\n",
    "We then iterate through every $a$ from 1 to $n$. If gcd($a,n$)=1, the coefficient for $x^a$ will be 1. Otherwise, coefficient for $x^a$ will be 0. This is done by using the previously defined ``is_coprime(a,n)`` function.<br>\n",
    "With the complete coefficient vector ``v``, the Fekete polynomial is simply ``R(v)``."
   ]
  },
  {
   "cell_type": "code",
   "execution_count": 11,
   "id": "29e8d02b-a2c1-48d2-83c4-46bb9a2f481f",
   "metadata": {},
   "outputs": [],
   "source": [
    "def fekete(n):\n",
    "    v = [0]\n",
    "    v += [is_coprime(a,n) for a in range (1,n+1)]\n",
    "    Fn_x = R(v)\n",
    "    return Fn_x"
   ]
  },
  {
   "cell_type": "markdown",
   "id": "1db19159-7aa1-421a-86cc-b41b5fef74c3",
   "metadata": {},
   "source": [
    "For example, $F_{10}(x) = x^9 + x^7 + x^3 + x$."
   ]
  },
  {
   "cell_type": "code",
   "execution_count": 12,
   "id": "ec348fcb-f747-4268-994a-3ffafc4f849d",
   "metadata": {},
   "outputs": [
    {
     "data": {
      "text/plain": [
       "x^9 + x^7 + x^3 + x"
      ]
     },
     "execution_count": 12,
     "metadata": {},
     "output_type": "execute_result"
    }
   ],
   "source": [
    "fekete(10)"
   ]
  },
  {
   "cell_type": "markdown",
   "id": "44b2ac7a-061a-411e-ad32-f8570eeb14dc",
   "metadata": {},
   "source": [
    "### Necklace polynomials\n",
    "A necklace polynomial, $M_n(x)$ is defined as:<br>\n",
    "$M_n(x) = \\frac{1}{n} \\sum_{a|n} \\mu(a) x^{\\frac{n}{a}}$<br>\n",
    "Since x's are raised to $\\frac{n}{a}$ power, we take a different approach of constructing the coefficients vector ``v`` as to Fekete polynomials.<br>\n",
    "Note that for all $n$, $M_n(x)$ includes $x$ and $x^n$. Hence, we start by creating a vector of $(n+1)$ 0s as place holder for coefficients of $x^0$ to $x^n$. This is done by declaring ``v = [0]*(n+1)``.<br>\n",
    "Since $n \\nmid 0$, we iterate through all $a$ from 1 to $n$ and check for divisibility using ``if n%a == 0``. If $n \\nmid a$, we change the $\\frac{n}{a}$ element of ``v`` to ``mobius(a)``.<br>\n",
    "Finally, we multiply our polynomial with $\\frac{1}{n}$ and return the complete neckplace polynomial."
   ]
  },
  {
   "cell_type": "code",
   "execution_count": 13,
   "id": "700f22ec-d1e1-4c3f-9211-b733cd3730c9",
   "metadata": {},
   "outputs": [],
   "source": [
    "def necklace(n):\n",
    "    v = [0]*(n+1)\n",
    "    for a in range (1, n+1):\n",
    "        if n%a == 0:\n",
    "            v[n//a] = mobius(a)           \n",
    "    Mn_x = R(v)*(1/n)\n",
    "    return Mn_x"
   ]
  },
  {
   "cell_type": "markdown",
   "id": "11ea931b-fa0a-4dc1-ae70-fa86bdef89c4",
   "metadata": {},
   "source": [
    "For example, $M_{15}(x)=\\frac{1}{15}(x^{15}-x^5-x^3+x)$."
   ]
  },
  {
   "cell_type": "code",
   "execution_count": 14,
   "id": "e79290cb-5959-4fa2-b2e8-a6d67a2348f4",
   "metadata": {},
   "outputs": [
    {
     "data": {
      "text/plain": [
       "1/15*x^15 - 1/15*x^5 - 1/15*x^3 + 1/15*x"
      ]
     },
     "execution_count": 14,
     "metadata": {},
     "output_type": "execute_result"
    }
   ],
   "source": [
    "necklace(15)"
   ]
  },
  {
   "cell_type": "markdown",
   "id": "c81d29da-8b37-4f0d-9560-160a4e1cea1b",
   "metadata": {},
   "source": [
    "### Polynomial factorization\n",
    "Polynomial factorization can be done by using the polynomial class method ``.factor()``. See examples below:"
   ]
  },
  {
   "cell_type": "markdown",
   "id": "3caf4b6b-f757-4fe3-a565-3acb6e81acb0",
   "metadata": {},
   "source": [
    "$F_{10}(x) = x^9 + x^7 + x^3 + x = x(x^2+1)^2(x^4-x^2+1)$."
   ]
  },
  {
   "cell_type": "code",
   "execution_count": 15,
   "id": "04f6ec71-51a1-4117-91be-683f8c28b1f3",
   "metadata": {},
   "outputs": [
    {
     "data": {
      "text/plain": [
       "x * (x^2 + 1)^2 * (x^4 - x^2 + 1)"
      ]
     },
     "execution_count": 15,
     "metadata": {},
     "output_type": "execute_result"
    }
   ],
   "source": [
    "F_10 = fekete(10)\n",
    "F_10.factor()"
   ]
  },
  {
   "cell_type": "markdown",
   "id": "d20f8dfd-8968-47cb-a401-003770d89680",
   "metadata": {},
   "source": [
    "$M_{15}(x)=\\frac{1}{15}(x^{15}-x^5-x^3+x)=\\frac{1}{15}x(x-1)(x+1)(x^2+1)(x^{10}+x^6+x^2-1)$"
   ]
  },
  {
   "cell_type": "code",
   "execution_count": 16,
   "id": "6979c2e5-b6c0-4edd-bc26-3af5aab2794a",
   "metadata": {},
   "outputs": [
    {
     "data": {
      "text/plain": [
       "(1/15) * (x - 1) * x * (x + 1) * (x^2 + 1) * (x^10 + x^6 + x^2 - 1)"
      ]
     },
     "execution_count": 16,
     "metadata": {},
     "output_type": "execute_result"
    }
   ],
   "source": [
    "M_15 = necklace(15)\n",
    "M_15.factor()"
   ]
  },
  {
   "cell_type": "markdown",
   "id": "3c9fea85-b31f-404d-a8e0-06064235c5a4",
   "metadata": {},
   "source": [
    "Similar to the integer prime factorization function, this also wraps a list of pairs (factor, exponent), and you can get this list by running the list() function."
   ]
  },
  {
   "cell_type": "code",
   "execution_count": 17,
   "id": "c0882ee0-d4e8-442f-9824-5c53e2391880",
   "metadata": {},
   "outputs": [
    {
     "data": {
      "text/plain": [
       "[(x, 1), (x^2 + 1, 2), (x^4 - x^2 + 1, 1)]"
      ]
     },
     "execution_count": 17,
     "metadata": {},
     "output_type": "execute_result"
    }
   ],
   "source": [
    "list(F_10.factor())"
   ]
  },
  {
   "cell_type": "markdown",
   "id": "7a85729d-6077-4dba-b073-9e9b868e7b63",
   "metadata": {},
   "source": [
    "### Cyclotomic factors"
   ]
  },
  {
   "cell_type": "markdown",
   "id": "74eac31a-c6f3-4511-9188-5150dc5be07a",
   "metadata": {},
   "source": [
    "The polynomial class method ``.is_cyclotomic()`` returns ``True`` if a polynomial is cyclotomic, ``False`` if otherwise.<br>\n",
    "For example, $\\Phi_3(x) = x^2+x+1$."
   ]
  },
  {
   "cell_type": "code",
   "execution_count": 18,
   "id": "abd7e3c0-5e37-4ed4-a7bd-c53fb90f358d",
   "metadata": {},
   "outputs": [
    {
     "data": {
      "text/plain": [
       "True"
      ]
     },
     "execution_count": 18,
     "metadata": {},
     "output_type": "execute_result"
    }
   ],
   "source": [
    "phi3 = R([1, 1, 1])\n",
    "phi3.is_cyclotomic()"
   ]
  },
  {
   "cell_type": "markdown",
   "id": "5ba6764d-6e39-443a-82b9-e9e5a33e911d",
   "metadata": {},
   "source": [
    "Adding the argument ``certificate=True`` to the method returns the degree of the cyclotomic factor."
   ]
  },
  {
   "cell_type": "code",
   "execution_count": 19,
   "id": "2a7ac57c-c686-4479-9215-a7273cbc77ba",
   "metadata": {},
   "outputs": [
    {
     "data": {
      "text/plain": [
       "3"
      ]
     },
     "execution_count": 19,
     "metadata": {},
     "output_type": "execute_result"
    }
   ],
   "source": [
    "phi3.is_cyclotomic(certificate=True)"
   ]
  },
  {
   "cell_type": "markdown",
   "id": "383aeb9d-4e4e-4037-8e2b-7ad4e46a7449",
   "metadata": {},
   "source": [
    "The polynomial class ``.cyclotomic_part()`` returns the part of the polynomial consisting of cyclotomic factors. Note that this has not been factored down to irreducible components. For example:"
   ]
  },
  {
   "cell_type": "code",
   "execution_count": 20,
   "id": "55b764b1-e164-4063-afb5-b4ff2e62e1a5",
   "metadata": {},
   "outputs": [
    {
     "data": {
      "text/plain": [
       "x^8 + x^6 + x^2 + 1"
      ]
     },
     "execution_count": 20,
     "metadata": {},
     "output_type": "execute_result"
    }
   ],
   "source": [
    "F_10.cyclotomic_part()"
   ]
  },
  {
   "cell_type": "markdown",
   "id": "edb1533a-df67-48e7-b302-3e3c1f13e9d8",
   "metadata": {},
   "source": [
    "We can define a function ``cyclotomic_factor(f)`` that takes a polynomial ``f`` and return a list of its cyclotomic factors as follows:\n",
    "* Retrieve the cyclotomic part of the ``f`` using ``f_cyclotomic = f.cyclotomic_part()``.\n",
    "* Factor ``f_cyclotomic`` down to irreducible components using ``f_cyclotomic.factor()``.\n",
    "* Recall that each cyclotomic factor in this list is a pair (factor, exponent).\n",
    "  * The degree of the cyclotomic factor can be retrieved by ``factor[0].is_cyclotomic(certificate=True)``.\n",
    "  * The exponent of the cyclotomic factor is simply the second element in the pair, hence ``factor[1]``.\n",
    "* Return a list of cyclotomic factor degrees, each repeated by a number of times depending on their exponent."
   ]
  },
  {
   "cell_type": "code",
   "execution_count": 21,
   "id": "2fb01c16-7428-41da-8175-a587c2402479",
   "metadata": {},
   "outputs": [],
   "source": [
    "def cyclotomic_factor(f):\n",
    "    f_cyclotomic = f.cyclotomic_part()\n",
    "    phi_list = []\n",
    "    for factor in f_cyclotomic.factor():\n",
    "        degree = factor[0].is_cyclotomic(certificate=True)\n",
    "        exponent = factor[1]\n",
    "        phi_list += [degree for _ in range(exponent)]\n",
    "    return phi_list"
   ]
  },
  {
   "cell_type": "markdown",
   "id": "57ed06bd-2c1c-4334-87de-d13826ceabc0",
   "metadata": {},
   "source": [
    "$F_{10}(x) = x^9 + x^7 + x^3 + x = x(x^2+1)^2(x^4-x^2+1)=x \\Phi_4(x)^2 \\Phi_{12}(x)$."
   ]
  },
  {
   "cell_type": "code",
   "execution_count": 22,
   "id": "b0a941ea-e24e-4cd5-b3d2-b6d65a67f999",
   "metadata": {},
   "outputs": [
    {
     "data": {
      "text/plain": [
       "[4, 4, 12]"
      ]
     },
     "execution_count": 22,
     "metadata": {},
     "output_type": "execute_result"
    }
   ],
   "source": [
    "cyclotomic_factor(fekete(10))"
   ]
  },
  {
   "cell_type": "markdown",
   "id": "e01985a4-3a2e-4d41-baed-39aba15eb632",
   "metadata": {},
   "source": [
    "As for any irreducible component of a polynomial that is not cyclotomic, we can define a function ``non_cyclotomic_factor(f)`` that takes a polynomial ``f`` and return a list of the non-cyclotomic factors as follows:\n",
    "* Factor ``f`` using ``f.factor()``.\n",
    "* Test each factor, which is the first element of the (factor, exponent) pair, hence ``pair[0]``, against the ``is_cyclotomic()`` test.\n",
    "* Return a list of any factor that fails the ``is_cyclotomic()`` test."
   ]
  },
  {
   "cell_type": "code",
   "execution_count": 23,
   "id": "8c19b7e9-78d2-4c10-a87a-3fd19fff0bf8",
   "metadata": {},
   "outputs": [],
   "source": [
    "def non_cyclotomic_factor(f):\n",
    "    remanent = []\n",
    "    for pair in f.factor():\n",
    "        factor = pair[0]\n",
    "        if not factor.is_cyclotomic():\n",
    "            remanent.append(factor)\n",
    "    return remanent"
   ]
  },
  {
   "cell_type": "markdown",
   "id": "5788a2aa-1141-435c-b311-7ebc0bc24c86",
   "metadata": {},
   "source": [
    "$M_{15}(x)=\\frac{1}{15}(x^{15}-x^5-x^3+x)=\\frac{1}{15}x(x-1)(x+1)(x^2+1)(x^{10}+x^6+x^2-1)$<br>\n",
    "$M_{15}(x)=\\frac{1}{15} x \\Phi_1(x) \\Phi_2(x) \\Phi_4(x) g_{15}(x)$<br>\n",
    "where $g_{15}(x)=x^{10}+x^6+x^2-1$ is irreducible."
   ]
  },
  {
   "cell_type": "code",
   "execution_count": 24,
   "id": "01308d42-39be-4f5a-a102-f092be856dd2",
   "metadata": {},
   "outputs": [
    {
     "data": {
      "text/plain": [
       "[x, x^10 + x^6 + x^2 - 1]"
      ]
     },
     "execution_count": 24,
     "metadata": {},
     "output_type": "execute_result"
    }
   ],
   "source": [
    "non_cyclotomic_factor(necklace(15))"
   ]
  },
  {
   "cell_type": "markdown",
   "id": "4f5f7fe1-f6d0-4a2f-bc6c-a2bf9de7b8cf",
   "metadata": {},
   "source": [
    "## Sample data 📊"
   ]
  },
  {
   "cell_type": "markdown",
   "id": "774b3af4-26d3-4c4e-aa2b-398cdf84b286",
   "metadata": {},
   "source": [
    "### Fekete polynomials"
   ]
  },
  {
   "cell_type": "code",
   "execution_count": 25,
   "id": "186edeac-3753-4f57-848a-9c5461281361",
   "metadata": {},
   "outputs": [
    {
     "name": "stdout",
     "output_type": "stream",
     "text": [
      "F3: [2]\n",
      "F4: [4]\n",
      "F5: [2, 4]\n",
      "F6: [8]\n",
      "F7: [2, 6, 3]\n",
      "F8: [4, 8]\n",
      "F9: [2, 9]\n",
      "F10: [4, 4, 12]\n",
      "F11: [2, 10, 5]\n",
      "F12: [4, 12, 8]\n",
      "F13: [2, 6, 4, 3, 12]\n",
      "F14: [6, 3, 16]\n",
      "F15: [2, 4, 8]\n"
     ]
    }
   ],
   "source": [
    "for n in range(3,16):\n",
    "    Fn = fekete(n)\n",
    "    phi_list = cyclotomic_factor(Fn)\n",
    "    print(f'F{n}: {phi_list}')"
   ]
  },
  {
   "cell_type": "markdown",
   "id": "90b8af43-aab6-4531-8211-222942f7eac7",
   "metadata": {},
   "source": [
    "### Neckplace polynomials"
   ]
  },
  {
   "cell_type": "code",
   "execution_count": 26,
   "id": "f91e4782-95ad-45b7-87b4-508f9072aa11",
   "metadata": {},
   "outputs": [
    {
     "name": "stdout",
     "output_type": "stream",
     "text": [
      "M2: [1]\n",
      "M3: [1, 2]\n",
      "M4: [1, 2]\n",
      "M5: [1, 2, 4]\n",
      "M6: [1, 2]\n",
      "M7: [1, 2, 6, 3]\n",
      "M8: [1, 2, 4]\n",
      "M9: [1, 2, 6, 3]\n",
      "M10: [1, 2, 6, 4]\n",
      "M11: [1, 2, 10, 5]\n",
      "M12: [1, 2, 4]\n",
      "M13: [1, 2, 6, 4, 3, 12]\n",
      "M14: [1, 2, 6, 3]\n",
      "M15: [1, 2, 4]\n"
     ]
    }
   ],
   "source": [
    "for n in range(2,16):\n",
    "    Mn = necklace(n)\n",
    "    phi_list = cyclotomic_factor(Mn)\n",
    "    print(f'M{n}: {phi_list}')"
   ]
  }
 ],
 "metadata": {
  "kernelspec": {
   "display_name": "SageMath 10.7",
   "language": "sage",
   "name": "sagemath-10.7"
  },
  "language_info": {
   "codemirror_mode": {
    "name": "ipython",
    "version": 3
   },
   "file_extension": ".py",
   "mimetype": "text/x-python",
   "name": "python",
   "nbconvert_exporter": "python",
   "pygments_lexer": "ipython3",
   "version": "3.13.3"
  }
 },
 "nbformat": 4,
 "nbformat_minor": 5
}
