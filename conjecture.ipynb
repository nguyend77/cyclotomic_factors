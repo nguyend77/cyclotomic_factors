{
 "cells": [
  {
   "cell_type": "code",
   "execution_count": 1,
   "id": "f5a9991d-78f6-471a-a959-03aff901375b",
   "metadata": {},
   "outputs": [],
   "source": [
    "R.<x> = PolynomialRing(ZZ)\n",
    "def fekete_polynomial(n):\n",
    "    v = [1 if gcd(a,n)==1 else 0 for a in range (n+1)]\n",
    "    Fn_x = R(v)\n",
    "    return Fn_x\n",
    "def cyclotomic_factor(f):\n",
    "    f_cyclotomic = f.cyclotomic_part()\n",
    "    phi_list = []\n",
    "    for factor in f_cyclotomic.factor():\n",
    "        degree = factor[0].is_cyclotomic(certificate=True)\n",
    "        exponent = factor[1]\n",
    "        phi_list += [degree for _ in range(exponent)]\n",
    "    return phi_list"
   ]
  },
  {
   "cell_type": "code",
   "execution_count": 2,
   "id": "632377b6-60ea-46e9-8564-ebed963097a2",
   "metadata": {},
   "outputs": [],
   "source": [
    "class Fekete:\n",
    "    def __init__(self,n):\n",
    "        self.n = n\n",
    "        self.polynomial = fekete_polynomial(n)\n",
    "        self.A = [a for a in range(1,n+1) if gcd(a,n)==1]\n",
    "        self.cyclotomic_list = cyclotomic_factor(fekete_polynomial(n))\n",
    "    def test_conjecture(self,d):\n",
    "        self.distribution = {}\n",
    "        self.d1 = gcd(d,self.n)\n",
    "        self.S = [s for s in range(1,d+1) if gcd(s, self.d1)==1]\n",
    "        for s in self.S:\n",
    "            self.distribution[s] = [a for a in self.A if a%d==s%d]\n",
    "        if d%2==0:\n",
    "            for s in self.S:\n",
    "                if ((s+d//2) in self.distribution) and (len(self.distribution[s]) != len(self.distribution[s+d//2])):\n",
    "                    return False\n",
    "                if ((s-d//2) in self.distribution) and (len(self.distribution[s]) != len(self.distribution[s-d//2])):\n",
    "                    return False\n",
    "        else:\n",
    "            for s in self.S:\n",
    "                if len(self.distribution[s]) != len(self.distribution[1]):\n",
    "                    return False\n",
    "        return True"
   ]
  },
  {
   "cell_type": "code",
   "execution_count": 3,
   "id": "82cdc2ba-1618-46be-8686-e2b4dc346fb5",
   "metadata": {},
   "outputs": [
    {
     "name": "stdout",
     "output_type": "stream",
     "text": [
      "All cases checked.\n"
     ]
    }
   ],
   "source": [
    "for n in range(3,2000):\n",
    "    f = Fekete(n)\n",
    "    for d in f.cyclotomic_list:\n",
    "        if not f.test_conjecture(d):\n",
    "            print(f'(d={d},n={n}) {f.distribution}')\n",
    "print('All cases checked.')"
   ]
  }
 ],
 "metadata": {
  "kernelspec": {
   "display_name": "SageMath 10.7",
   "language": "sage",
   "name": "sagemath-10.7"
  },
  "language_info": {
   "codemirror_mode": {
    "name": "ipython",
    "version": 3
   },
   "file_extension": ".py",
   "mimetype": "text/x-python",
   "name": "python",
   "nbconvert_exporter": "python",
   "pygments_lexer": "ipython3",
   "version": "3.13.3"
  }
 },
 "nbformat": 4,
 "nbformat_minor": 5
}
